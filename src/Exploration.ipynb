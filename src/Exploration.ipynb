{
 "cells": [
  {
   "cell_type": "code",
   "execution_count": 1,
   "metadata": {},
   "outputs": [],
   "source": [
    "from pyspark.sql.functions import *"
   ]
  },
  {
   "cell_type": "code",
   "execution_count": 2,
   "metadata": {},
   "outputs": [],
   "source": [
    "df = spark.read.load('data/complete.csv',\n",
    "                     format=\"csv\", inferSchema=\"true\", header=\"true\")"
   ]
  },
  {
   "cell_type": "code",
   "execution_count": 3,
   "metadata": {},
   "outputs": [
    {
     "data": {
      "text/plain": [
       "StructType(List(StructField(category,StringType,true),StructField(date,TimestampType,true),StructField(Wt Range,StringType,true),StructField(Avg Wt,IntegerType,true),StructField(Price Range,StringType,true),StructField(Avg Price,DoubleType,true),StructField(Extra,StringType,true)))"
      ]
     },
     "execution_count": 3,
     "metadata": {},
     "output_type": "execute_result"
    }
   ],
   "source": [
    "df.schema"
   ]
  },
  {
   "cell_type": "code",
   "execution_count": 4,
   "metadata": {},
   "outputs": [
    {
     "data": {
      "text/plain": [
       "[Row(category='Slaughter Cows Boner 80-85%', date=datetime.datetime(2019, 4, 25, 0, 0), Wt Range='1000-1100', Avg Wt=1050, Price Range='50.00-54.00', Avg Price=51.9, Extra=None),\n",
       " Row(category='Slaughter Cows Boner 80-85%', date=datetime.datetime(2019, 4, 25, 0, 0), Wt Range='1235-1390', Avg Wt=1318, Price Range='50.00-51.00', Avg Price=50.34, Extra=None),\n",
       " Row(category='Slaughter Cows Boner 80-85%', date=datetime.datetime(2019, 4, 25, 0, 0), Wt Range='1335-1350', Avg Wt=1342, Price Range='48.00-49.00', Avg Price=48.5, Extra='Low Dressing'),\n",
       " Row(category='Slaughter Cows Lean 85-90%', date=datetime.datetime(2019, 4, 25, 0, 0), Wt Range='960-1100', Avg Wt=1064, Price Range='45.00-50.00', Avg Price=47.88, Extra=None),\n",
       " Row(category='Slaughter Cows Lean 85-90%', date=datetime.datetime(2019, 4, 25, 0, 0), Wt Range='880-1100', Avg Wt=944, Price Range='38.00-44.00', Avg Price=40.46, Extra='Low Dressing')]"
      ]
     },
     "execution_count": 4,
     "metadata": {},
     "output_type": "execute_result"
    }
   ],
   "source": [
    "df.take(5)"
   ]
  },
  {
   "cell_type": "code",
   "execution_count": 5,
   "metadata": {},
   "outputs": [
    {
     "name": "stdout",
     "output_type": "stream",
     "text": [
      "+---------------------------------------+\n",
      "|category                               |\n",
      "+---------------------------------------+\n",
      "|Cow-Calf Pairs Medium and Large 1-2    |\n",
      "|Slaughter Bulls Y.G. 1                 |\n",
      "|Slaughter Cows Boner 80-85%            |\n",
      "|Feeder Bulls Medium and Large 1        |\n",
      "|Bred Cows Medium and Large 2-3 per head|\n",
      "|Feeder Heifers Medium and Large 2      |\n",
      "|Bred Cows Medium and Large 1-2 per head|\n",
      "|Slaughter Cows Lean 85-90%             |\n",
      "|Feeder Bulls Medium and Large 3        |\n",
      "|Feeder Heifers Medium and Large 1      |\n",
      "|Feeder Heifers Medium and Large 3      |\n",
      "|Feeder Bulls Medium and Large 2        |\n",
      "+---------------------------------------+\n",
      "\n"
     ]
    }
   ],
   "source": [
    "df.select(\"category\").distinct().show(20, False)"
   ]
  },
  {
   "cell_type": "code",
   "execution_count": 6,
   "metadata": {},
   "outputs": [],
   "source": [
    "# I want to convert the wt range to a high wt and low wt, and the price range to a high price and low price\n",
    "withPriceCols = df.withColumn(\"priceRange\", split(col(\"Price Range\"), '-').cast(\"array<int>\")) \\\n",
    "                    .withColumn(\"lowPrice\", array_min(col(\"priceRange\"))) \\\n",
    "                    .withColumn(\"highPrice\", array_max(col(\"priceRange\"))) \\\n",
    "                    .drop(\"Price Range\") \\\n",
    "                    .drop(\"priceRange\")\n",
    "\n",
    "auctionResults = withPriceCols.withColumn(\"weightRange\", split(col(\"Wt Range\"), '-').cast(\"array<int>\")) \\\n",
    "                                .withColumn(\"lowWeight\", array_min(col(\"weightRange\"))) \\\n",
    "                                .withColumn(\"highWeight\", array_max(col(\"weightRange\"))) \\\n",
    "                                .drop(\"Wt Range\") \\\n",
    "                                .drop(\"weightRange\")"
   ]
  },
  {
   "cell_type": "code",
   "execution_count": 7,
   "metadata": {},
   "outputs": [
    {
     "name": "stdout",
     "output_type": "stream",
     "text": [
      "+--------------------+-------------------+------+---------+-----+--------+---------+---------+----------+\n",
      "|            category|               date|Avg Wt|Avg Price|Extra|lowPrice|highPrice|lowWeight|highWeight|\n",
      "+--------------------+-------------------+------+---------+-----+--------+---------+---------+----------+\n",
      "|Slaughter Cows Bo...|2019-04-25 00:00:00|  1050|     51.9| null|      50|       54|     1000|      1100|\n",
      "+--------------------+-------------------+------+---------+-----+--------+---------+---------+----------+\n",
      "only showing top 1 row\n",
      "\n"
     ]
    }
   ],
   "source": [
    "auctionResults.show(1)"
   ]
  },
  {
   "cell_type": "code",
   "execution_count": 8,
   "metadata": {},
   "outputs": [
    {
     "data": {
      "text/plain": [
       "StructType(List(StructField(category,StringType,true),StructField(date,TimestampType,true),StructField(Avg Wt,IntegerType,true),StructField(Avg Price,DoubleType,true),StructField(Extra,StringType,true),StructField(lowPrice,IntegerType,true),StructField(highPrice,IntegerType,true),StructField(lowWeight,IntegerType,true),StructField(highWeight,IntegerType,true)))"
      ]
     },
     "execution_count": 8,
     "metadata": {},
     "output_type": "execute_result"
    }
   ],
   "source": [
    "auctionResults.schema"
   ]
  },
  {
   "cell_type": "code",
   "execution_count": null,
   "metadata": {},
   "outputs": [],
   "source": []
  }
 ],
 "metadata": {
  "kernelspec": {
   "display_name": "Python 3",
   "language": "python",
   "name": "python3"
  },
  "language_info": {
   "codemirror_mode": {
    "name": "ipython",
    "version": 3
   },
   "file_extension": ".py",
   "mimetype": "text/x-python",
   "name": "python",
   "nbconvert_exporter": "python",
   "pygments_lexer": "ipython3",
   "version": "3.7.1"
  }
 },
 "nbformat": 4,
 "nbformat_minor": 2
}
